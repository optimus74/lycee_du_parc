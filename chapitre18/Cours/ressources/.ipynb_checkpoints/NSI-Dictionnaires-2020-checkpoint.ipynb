{
 "cells": [
  {
   "cell_type": "markdown",
   "metadata": {},
   "source": [
    "## Test de performances de l'opérateur in \n",
    "\n",
    "\n",
    "* Source : Python Fluent Chapitre 1 Dict and Set <https://github.com/fluentpython/example-code-2e/tree/master/03-dict-set/support>"
   ]
  },
  {
   "cell_type": "markdown",
   "metadata": {},
   "source": [
    "## container_perftest.py"
   ]
  },
  {
   "cell_type": "code",
   "execution_count": 21,
   "metadata": {},
   "outputs": [
    {
     "name": "stdout",
     "output_type": "stream",
     "text": [
      "Usage: /home/junier/.local/lib/python3.8/site-packages/ipykernel_launcher.py <container_type>\n"
     ]
    }
   ],
   "source": [
    "\"\"\"\n",
    "Container ``in`` operator performance test\n",
    "\n",
    "Auteur : Luciano Ramalho \"Fluent Python\"\n",
    "Source : https://github.com/fluentpython/example-code-2e/tree/master/03-dict-set/support\n",
    "\"\"\"\n",
    "import sys\n",
    "import timeit\n",
    "\n",
    "#Initialisation d'un test \n",
    "#avec les valeurs des tableaux haystack pour la meule de foin (zone de recherche)\n",
    "#et needles (auiguilles/clefs recherchées dans haystack)\n",
    "SETUP = '''\n",
    "#import du module permettant de créer des tableaux homogènes\n",
    "import array  \n",
    "#création d'un tableau de flottants\n",
    "selected = array.array('d')\n",
    "#on sélectionne size flottants dans le fichier selected.arr\n",
    "#size = 10**k avec 3 <= k <= 7\n",
    "with open('selected.arr', 'rb') as fp:\n",
    "    selected.fromfile(fp, {size})\n",
    "#création de la meule de foin haystack\n",
    "#1ercas : si le conteneur testé est de type dict\n",
    "if {container_type} is dict:\n",
    "    haystack = dict.fromkeys(selected, 1)\n",
    "#2eme cas : list ou set\n",
    "else:\n",
    "    haystack = {container_type}(selected)\n",
    "#en mode verbeux (verbose est un booléen on affiche une trace de chaque recherche)\n",
    "if {verbose}:\n",
    "    print(type(haystack), end='  ')\n",
    "    print('haystack: %10d' % len(haystack), end='  ')\n",
    "#on crée le tableau des aiguilles\n",
    "needles = array.array('d')\n",
    "#on sélectionne 500 aiguilles dans not_selected.arr \n",
    "#on est sur qu'elles ne sont pas dans selected.arr et donc pas dans haystack\n",
    "with open('not_selected.arr', 'rb') as fp:\n",
    "    needles.fromfile(fp, 500)\n",
    "#on complète needles avec 500 aiguilles dans selected.arr et donc dans haystack\n",
    "needles.extend(selected[::{size}//500])\n",
    "if {verbose}:\n",
    "    print(' needles: %10d' % len(needles), end='  ')\n",
    "'''\n",
    "\n",
    "#Initialisation du code testé\n",
    "TEST = '''\n",
    "found = 0\n",
    "for n in needles:\n",
    "    if n in haystack:\n",
    "        found += 1\n",
    "if {verbose}:\n",
    "    print('  found: %10d' % found)\n",
    "'''\n",
    "\n",
    "def test(container_type, verbose):\n",
    "    \"\"\"Test la performance de l'opérateur in pour le conteneur \n",
    "    de type container_type\"\"\"\n",
    "    print(\"Type de conteneur {}\".format(container_type))\n",
    "    print('-'* 20)\n",
    "    MAX_EXPONENT = 7\n",
    "    #boucle sur la taille de la meule de foin haystask entre 10**3 et 10**7\n",
    "    for n in range(3, MAX_EXPONENT + 1):\n",
    "        #initialisation de la taille de la meule de foin haystack\n",
    "        size = 10**n\n",
    "        #on paramètre l'initialisation des variables haystack et needles\n",
    "        setup = SETUP.format(container_type=container_type,\n",
    "                             size=size, verbose=verbose)\n",
    "        #on paramètre le test (affichage verbeux ou pas)\n",
    "        test = TEST.format(verbose=verbose)\n",
    "        #on répète 5 fois le code test avec les variables initialisées dans setup\n",
    "        tt = timeit.repeat(stmt=test, setup=setup, repeat=5, number=1)\n",
    "        if verbose:\n",
    "            print(\"Temps d'exécution des 5 boucles \", tt)\n",
    "        print('Taille de la meule de foin : {:{}d}'.format(size, MAX_EXPONENT + 1))\n",
    "        print('Temps minimum de recherche de 1000 aiguilles  (sur 5 recherches): {:f} s'.format(min(tt)))\n",
    "        print('-'* 20)\n",
    "\n",
    "#le code peut être exécuté depuis la ligne de commandes :\n",
    "\"\"\"\n",
    "Pour un test avec un dictionnaire (type dic) :\n",
    ">>> python3 dict\n",
    "Pour u ntest avec une liste python (type list) :\n",
    ">>> python3 list\n",
    "\"\"\"\n",
    "\n",
    "if __name__=='__main__':\n",
    "    #l'option facultative -v délcenche le mode verbeux \n",
    "    #elle peut être avant ou après l'option de type  de conteneur obligatoire\n",
    "    if '-v' in sys.argv:        \n",
    "        sys.argv.remove('-v')\n",
    "        verbose = True\n",
    "    else:\n",
    "        verbose = False\n",
    "    if len(sys.argv) != 2:\n",
    "        print('Usage: %s <container_type>' % sys.argv[0])\n",
    "    else:\n",
    "        test(sys.argv[1], verbose)"
   ]
  },
  {
   "cell_type": "markdown",
   "metadata": {},
   "source": [
    "## container_perftest_datagen.py"
   ]
  },
  {
   "cell_type": "code",
   "execution_count": 24,
   "metadata": {},
   "outputs": [
    {
     "name": "stdout",
     "output_type": "stream",
     "text": [
      "initial sample: 10500000 elements\n",
      "complete sample: 10500000 elements\n",
      "not selected: 500000 samples\n",
      "  writing not_selected.arr\n",
      "selected: 10000000 samples\n",
      "  writing selected.arr\n"
     ]
    }
   ],
   "source": [
    "\"\"\"\n",
    "Generate data for container performance test\n",
    "\n",
    "Auteur : Luciano Ramalho \"Fluent Python\"\n",
    "Source : https://github.com/fluentpython/example-code-2e/tree/master/03-dict-set/support\n",
    "\"\"\"\n",
    "\n",
    "import random\n",
    "import array\n",
    "\n",
    "#varaibles globales\n",
    "MAX_EXPONENT = 7\n",
    "HAYSTACK_LEN = 10 ** MAX_EXPONENT\n",
    "NEEDLES_LEN = 10 ** (MAX_EXPONENT - 1)\n",
    "SAMPLE_LEN = HAYSTACK_LEN + NEEDLES_LEN // 2\n",
    "\n",
    "\n",
    "#ensemble de SAMPLE_LEN  flottants double précision\n",
    "sample = {1/random.random() for i in range(SAMPLE_LEN)}\n",
    "print('initial sample: %d elements' % len(sample))\n",
    "\n",
    "#un ensemble n'a pas de doublons\n",
    "#on complète l'ensemble jusqu'à obtenir une taille de SAMPLE_LEN \n",
    "#tant qu'il y a des doublons\n",
    "# SAMPLE_LEN correspond\n",
    "while len(sample) < SAMPLE_LEN:\n",
    "    sample.add(1/random.random())\n",
    "\n",
    "print('complete sample: %d elements' % len(sample))\n",
    "\n",
    "#création d'un tableau de flottants double précision \n",
    "#à partir de l'échantillon sans doublons sample\n",
    "#au passage sample passe du type set au type array (typage dynamique en Python)\n",
    "sample = array.array('d', sample)\n",
    "#mélange de sample\n",
    "random.shuffle(sample)\n",
    "\n",
    "#on sélectionne NEEDLES_LEN // 2 (égal à 500 000) flottants dans sample\n",
    "not_selected = sample[:NEEDLES_LEN // 2]\n",
    "print('not selected: %d samples' % len(not_selected))\n",
    "print('  writing not_selected.arr')\n",
    "#on les enregistre dans le  fichier binaire not_selected.arr\n",
    "#de taille 500 000 * 8 = 4 000 0000 octets\n",
    "#avantage du type array : les flottants double précision sont codés sur 8 octets comme en C\n",
    "with open('not_selected.arr', 'wb') as fp:\n",
    "    not_selected.tofile(fp)\n",
    "\n",
    "#on sélectionne  les autres flottants de sample (soit 10 000 000)\n",
    "selected = sample[NEEDLES_LEN // 2:]\n",
    "print('selected: %d samples' % len(selected))\n",
    "print('  writing selected.arr')\n",
    "#on les enregistre dans le  fichier binaire selected.arr\n",
    "with open('selected.arr', 'wb') as fp:\n",
    "    selected.tofile(fp)"
   ]
  },
  {
   "cell_type": "markdown",
   "metadata": {},
   "source": [
    "## Test pour un dictionnaire"
   ]
  },
  {
   "cell_type": "code",
   "execution_count": 25,
   "metadata": {},
   "outputs": [
    {
     "name": "stdout",
     "output_type": "stream",
     "text": [
      "Type de conteneur dict\n",
      "--------------------\n",
      "Taille de la meule de foin :     1000\n",
      "Temps minimum de recherche de 1000 aiguilles  (sur 5 recherches): 0.000104 s\n",
      "--------------------\n",
      "Taille de la meule de foin :    10000\n",
      "Temps minimum de recherche de 1000 aiguilles  (sur 5 recherches): 0.000196 s\n",
      "--------------------\n",
      "Taille de la meule de foin :   100000\n",
      "Temps minimum de recherche de 1000 aiguilles  (sur 5 recherches): 0.000252 s\n",
      "--------------------\n",
      "Taille de la meule de foin :  1000000\n",
      "Temps minimum de recherche de 1000 aiguilles  (sur 5 recherches): 0.000399 s\n",
      "--------------------\n",
      "Taille de la meule de foin : 10000000\n",
      "Temps minimum de recherche de 1000 aiguilles  (sur 5 recherches): 0.000483 s\n",
      "--------------------\n"
     ]
    }
   ],
   "source": [
    "test('dict', False)"
   ]
  },
  {
   "cell_type": "code",
   "execution_count": 23,
   "metadata": {},
   "outputs": [
    {
     "name": "stdout",
     "output_type": "stream",
     "text": [
      "Type de conteneur list\n",
      "--------------------\n",
      "Taille de la meule de foin :     1000\n",
      "Temps minimum de recherche de 1000 aiguilles  (sur 5 recherches): 0.008002 s\n",
      "--------------------\n",
      "Taille de la meule de foin :    10000\n",
      "Temps minimum de recherche de 1000 aiguilles  (sur 5 recherches): 0.078902 s\n",
      "--------------------\n",
      "Taille de la meule de foin :   100000\n",
      "Temps minimum de recherche de 1000 aiguilles  (sur 5 recherches): 0.812977 s\n",
      "--------------------\n",
      "Taille de la meule de foin :  1000000\n",
      "Temps minimum de recherche de 1000 aiguilles  (sur 5 recherches): 8.554425 s\n",
      "--------------------\n",
      "Taille de la meule de foin : 10000000\n",
      "Temps minimum de recherche de 1000 aiguilles  (sur 5 recherches): 84.754335 s\n",
      "--------------------\n"
     ]
    }
   ],
   "source": [
    "test('list', False)"
   ]
  },
  {
   "cell_type": "markdown",
   "metadata": {},
   "source": [
    "## Des p-uplets aux p-uplets nommés"
   ]
  },
  {
   "cell_type": "code",
   "execution_count": 50,
   "metadata": {},
   "outputs": [],
   "source": [
    "import csv\n",
    "\n",
    "def fichier_vers_tab(fichier, separateur):\n",
    "    \"\"\"Prend en paramètres :\n",
    "    - fichier de type str représentant un chemin d'accès à un fichier texte\n",
    "    - separateur de type str désignant le séparateur de champs sur une ligne du fichier\n",
    "    Retourne un tuple de 2  tableaux :\n",
    "    - un tableau de tuples\n",
    "    - un tableau de tuples nommés (dictionnaires)\n",
    "    \"\"\"\n",
    "    #on ouvre le fichier 2 fois en lecture\n",
    "    f = open(fichier)\n",
    "    g = open(fichier)\n",
    "    csv_reader = csv.DictReader(f, delimiter=separateur)\n",
    "    tab_dico = [ligne for ligne in csv_reader]\n",
    "    #saut de la ligne d'en-tete\n",
    "    g.readline()\n",
    "    tab_tuple = [tuple(ligne.strip().split(separateur)) for ligne in g]\n",
    "    #on ferme les fichiers\n",
    "    g.close()\n",
    "    f.close()\n",
    "    return (tab_tuple, tab_dico)"
   ]
  },
  {
   "cell_type": "code",
   "execution_count": 51,
   "metadata": {},
   "outputs": [],
   "source": [
    "(tab_tuple_airports, tab_dico_airports) = fichier_vers_tab('airports-reduit-avec-entete.csv', ';')"
   ]
  },
  {
   "cell_type": "code",
   "execution_count": 52,
   "metadata": {},
   "outputs": [
    {
     "data": {
      "text/plain": [
       "{'nom': 'Lyon Saint-Exupéry Airport',\n",
       " 'latitude': '45.725556',\n",
       " 'longitude': '5.081111',\n",
       " 'altitude': '821',\n",
       " 'code_pays': 'FR'}"
      ]
     },
     "execution_count": 52,
     "metadata": {},
     "output_type": "execute_result"
    }
   ],
   "source": [
    "tab_dico_airports[32478]"
   ]
  },
  {
   "cell_type": "code",
   "execution_count": 54,
   "metadata": {},
   "outputs": [
    {
     "data": {
      "text/plain": [
       "('Lyon Saint-Exupéry Airport', '45.725556', '5.081111', '821', 'FR')"
      ]
     },
     "execution_count": 54,
     "metadata": {},
     "output_type": "execute_result"
    }
   ],
   "source": [
    "tab_tuple_airports[32478]"
   ]
  }
 ],
 "metadata": {
  "kernelspec": {
   "display_name": "Python 3",
   "language": "python",
   "name": "python3"
  },
  "language_info": {
   "codemirror_mode": {
    "name": "ipython",
    "version": 3
   },
   "file_extension": ".py",
   "mimetype": "text/x-python",
   "name": "python",
   "nbconvert_exporter": "python",
   "pygments_lexer": "ipython3",
   "version": "3.8.2"
  }
 },
 "nbformat": 4,
 "nbformat_minor": 4
}
