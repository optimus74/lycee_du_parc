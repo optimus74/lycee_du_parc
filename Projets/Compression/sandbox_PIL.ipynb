{
 "cells": [
  {
   "cell_type": "markdown",
   "metadata": {},
   "source": [
    "## Ce fichier  est un notebook Python.\n",
    "\n",
    "Il comporte deux types de cellules :\n",
    "\n",
    "* les cellules d'édition dans lesquelles vous pouvez saisir du texte éventuellement enrichi de mises en formes ou de liens hypertextes avec la syntaxe du langage HTML simplifié qui s'appelle Markdown. Voir http://daringfireball.net/projects/markdown/ pour la syntaxe de Markdown.\n",
    "\n",
    "* les cellules de code où l'on peut saisir du code Python3 puis le faire exécuter avec la combinaison de touches `CTRL + RETURN`\n",
    "\n",
    "Une cellule peut être éditée  de deux façons différentes :\n",
    "\n",
    "* en mode _commande_ lorsqu'on clique sur sa marge gauche qui est surlignée alors en bleu, on peut alors  :\n",
    "\n",
    "    - changer le type de la cellule en appuyant sur `m` pour passer en cellule Markdown ou sur `y` pour passer en cellule de code\n",
    "    \n",
    "    - insérer une cellule juste au-dessus en appuyant sur `a`\n",
    "    \n",
    "    - insérer une cellule juste en-dessous en appuyant sur `b`\n",
    "    \n",
    "    - couper la cellule en appuyant sur `x` etc ...\n",
    "    \n",
    "* en mode _édition_ lorsqu'on clique sur l'intérieur de la cellule.\n",
    "\n",
    "L'aide complète sur les raccourcis claviers est accessible depuis le bouton `Help` dans la barre d'outils ci-dessus.\n"
   ]
  },
  {
   "cell_type": "markdown",
   "metadata": {},
   "source": [
    "# Bac à sable PIL"
   ]
  },
  {
   "cell_type": "code",
   "execution_count": 16,
   "metadata": {},
   "outputs": [],
   "source": [
    "# import du module\n",
    "from PIL import Image"
   ]
  },
  {
   "cell_type": "code",
   "execution_count": 11,
   "metadata": {},
   "outputs": [],
   "source": [
    "# Quelques outils de partieA.py\n",
    "\n",
    "def str_to_bytes(chaine, encodage = 'utf8'):\n",
    "    \"\"\"\n",
    "    Paramètres :\n",
    "        chaine de type str, une chaine de caractères\n",
    "        encodage un paramètre de type str fixant l'encodage, par défaut utf8\n",
    "    Valeur renvoyée :\n",
    "        un flux d'octets de type bytes obtenu par encodage de chaine\n",
    "    \"\"\"\n",
    "    return chaine.encode(encoding = encodage)\n",
    "\n",
    "def bytes_to_str(flux, encodage = 'utf8'):\n",
    "    \"\"\"\n",
    "    Paramètres :\n",
    "        flux d'octets de type bytes\n",
    "        encodage un paramètre de type str fixant l'encodage, par défaut utf8\n",
    "    Valeur renvoyée :\n",
    "        une chaine de caractères de type str obtenue par décodage de flux\n",
    "    \"\"\"\n",
    "    return flux.decode(encoding = encodage)\n",
    "\n",
    "def hex_to_bytes(hexadecimal):\n",
    "    \"\"\"\n",
    "    Paramètres :\n",
    "        hexadecimal de type str représentant un nombre à 2 chiffres en base 16\n",
    "    Valeur renvoyée :\n",
    "        un octet de type bytes représentant le même nombre qu'hexadecimal\n",
    "    \"\"\"\n",
    "    return bytes.fromhex(hexadecimal)\n",
    "\n",
    "def fichier_to_image(fichier):\n",
    "    \"\"\"\n",
    "    Paramètres :\n",
    "        fichier de type str qui est un chemin vers un fichier image\n",
    "    Valeur renvoyée :\n",
    "        objet image représentant l'image contenue dans fichier pour le module PIL\n",
    "        le mode de l'image renvoyée est 'L' pour niveaux de gris (1 octet par pixel)\n",
    "    \"\"\"\n",
    "    img = Image.open(fichier)\n",
    "    img = img.convert('L')\n",
    "    return img\n",
    "\n",
    "def image_to_bytes(img):\n",
    "    \"\"\"\n",
    "    Paramètres :\n",
    "        img est un objet renvoyé par fichier_to_image représentant une image pour le module PIL\n",
    "        img de mode 'L' pour niveaux de gris (1 octet par pixel)\n",
    "    Valeur renvoyée :\n",
    "        un flux d'octets représentant les valeurs des pixels de l'image\n",
    "    \"\"\"\n",
    "    return bytes.fromhex(' '.join([decimal_to_hex(pixel) for pixel in list(img.getdata())]))\n",
    "\n",
    "def bytes_to_image(flux, largeur, hauteur):\n",
    "    \"\"\"\n",
    "    Paramètres :\n",
    "        flux de type bytes  représente la séquence de valeurs des pixels d'une image en niveaux de gris\n",
    "        largeur et hauteur de type int sont les dimensions de l'image\n",
    "    Valeur renvoyée :\n",
    "        un objet représentant une image en niveaux de gris pour le module PIL\n",
    "    \"\"\"\n",
    "    im = Image.new( 'L', (largeur, hauteur))\n",
    "    im.putdata([flux[k] for k in range(len(flux))])\n",
    "    return im\n",
    "\n",
    "def decimal_to_hex(n):\n",
    "    \"\"\"\n",
    "    Parametres :\n",
    "        n de type int\n",
    "    Valeur renvoyée:\n",
    "        représentation de n en base 16 sous forme de chaîne de caractères\n",
    "        on rajoute un 0 à gauche si un seul chiffre en base 16\n",
    "    \"\"\"\n",
    "    rep = ''\n",
    "    #à compléter "
   ]
  },
  {
   "cell_type": "code",
   "execution_count": 13,
   "metadata": {},
   "outputs": [],
   "source": [
    "# test d'affichage de Lena\n",
    "lena = fichier_to_image('lena.png')\n",
    "lena.show()"
   ]
  },
  {
   "cell_type": "code",
   "execution_count": 9,
   "metadata": {},
   "outputs": [],
   "source": [
    "# la fonction test_image de test_partieA.py\n",
    "# ne fonctionne que si vous avez codé decimal_to_hex\n",
    "\n",
    "def test_image(fichier = 'damier_2x2.png'):\n",
    "    img = fichier_to_image(fichier)\n",
    "    print(\"Représentation de l'objet image PIL\", end = \"\\n\\n\")\n",
    "    print(img, end = \"\\n\\n\")\n",
    "    print(\"Pixels de l'objet image PIL\", end = \"\\n\\n\")\n",
    "    print(list(img.getdata()), end = \"\\n\\n\")\n",
    "    print(\"Pixels en hadécimal de l'objet image PIL\", end = \"\\n\\n\")\n",
    "    print([decimal_to_hex(pixel) for pixel in list(img.getdata())], end = \"\\n\\n\")\n",
    "    img_bytes = image_to_bytes(img)\n",
    "    print(\"Affichage de l'image sous forme de flux d'octets\", end = \"\\n\\n\")\n",
    "    print(img_bytes, end = \"\\n\\n\")\n",
    "    print(\"Inversion de tous les octets\", end = \"\\n\\n\")\n",
    "    img_bytes_sortie = b''.join([(255 - img_bytes[k]).to_bytes(1, byteorder='little') for k in range(len(img_bytes))])\n",
    "    print(img_bytes_sortie, end = \"\\n\\n\")\n",
    "    img_sortie = bytes_to_image(img_bytes_sortie, img.width, img.height)\n",
    "    img_sortie.show()\n",
    "    nom, extension = fichier.split('.')\n",
    "    img_sortie.save('sortie-test-image-' + nom + '.' + extension)"
   ]
  },
  {
   "cell_type": "code",
   "execution_count": 14,
   "metadata": {},
   "outputs": [],
   "source": [
    "# Décommentez lorsque decimal_to_hex est codée\n",
    "# test_image()"
   ]
  },
  {
   "cell_type": "markdown",
   "metadata": {},
   "source": [
    "Vous pouvez écrire votre code dans les cellules ci-dessous"
   ]
  },
  {
   "cell_type": "code",
   "execution_count": null,
   "metadata": {},
   "outputs": [],
   "source": [
    "# saisir son code Python dans cette cellule puis exacuter avec CTRL + RETURN"
   ]
  },
  {
   "cell_type": "code",
   "execution_count": 15,
   "metadata": {},
   "outputs": [],
   "source": [
    "# une autre cellule\n",
    "# on peut rajouter autant de cellules qu'on veut en cliquant sur la zone grise en dessous du cadre"
   ]
  },
  {
   "cell_type": "code",
   "execution_count": null,
   "metadata": {},
   "outputs": [],
   "source": []
  }
 ],
 "metadata": {
  "kernelspec": {
   "display_name": "Python 3",
   "language": "python",
   "name": "python3"
  },
  "language_info": {
   "codemirror_mode": {
    "name": "ipython",
    "version": 3
   },
   "file_extension": ".py",
   "mimetype": "text/x-python",
   "name": "python",
   "nbconvert_exporter": "python",
   "pygments_lexer": "ipython3",
   "version": "3.8.5"
  }
 },
 "nbformat": 4,
 "nbformat_minor": 4
}
